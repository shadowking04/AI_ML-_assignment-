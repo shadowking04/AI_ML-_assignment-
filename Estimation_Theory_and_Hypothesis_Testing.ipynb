{
  "nbformat": 4,
  "nbformat_minor": 0,
  "metadata": {
    "colab": {
      "provenance": [],
      "gpuType": "T4"
    },
    "kernelspec": {
      "name": "python3",
      "display_name": "Python 3"
    },
    "language_info": {
      "name": "python"
    },
    "accelerator": "GPU"
  },
  "cells": [
    {
      "cell_type": "code",
      "execution_count": null,
      "metadata": {
        "colab": {
          "base_uri": "https://localhost:8080/"
        },
        "id": "p6STjVjsYudn",
        "outputId": "7f08f50d-40dc-402b-822f-874a9db9ebbd"
      },
      "outputs": [
        {
          "output_type": "stream",
          "name": "stdout",
          "text": [
            "Probability that the mean lifetime is less than 58 months: 0.0175\n"
          ]
        }
      ],
      "source": [
        "from scipy.stats import norm\n",
        "import math\n",
        "\n",
        "# Given values\n",
        "mean = 60\n",
        "std_dev = 6\n",
        "sample_size = 40\n",
        "sample_mean = 58\n",
        "\n",
        "# Standard error\n",
        "std_error = std_dev / math.sqrt(sample_size)\n",
        "\n",
        "# Z-score\n",
        "z = (sample_mean - mean) / std_error\n",
        "\n",
        "# Probability\n",
        "probability = norm.cdf(z)\n",
        "print(f\"Probability that the mean lifetime is less than 58 months: {probability:.4f}\")"
      ]
    },
    {
      "cell_type": "code",
      "source": [
        "# Given values\n",
        "sample_mean = 310\n",
        "std_dev = 89\n",
        "sample_size = 40\n",
        "z_value = 1.96  # for 95% confidence\n",
        "\n",
        "# Standard error\n",
        "std_error = std_dev / math.sqrt(sample_size)\n",
        "\n",
        "# Confidence interval\n",
        "margin_of_error = z_value * std_error\n",
        "lower_limit = sample_mean - margin_of_error\n",
        "upper_limit = sample_mean + margin_of_error\n",
        "\n",
        "print(f\"95% Confidence Interval: ({lower_limit:.2f}, {upper_limit:.2f})\")"
      ],
      "metadata": {
        "colab": {
          "base_uri": "https://localhost:8080/"
        },
        "id": "3BZvM3rOZqqh",
        "outputId": "478bd2aa-434a-48d6-d061-ca2b5ada870f"
      },
      "execution_count": null,
      "outputs": [
        {
          "output_type": "stream",
          "name": "stdout",
          "text": [
            "95% Confidence Interval: (282.42, 337.58)\n"
          ]
        }
      ]
    },
    {
      "cell_type": "markdown",
      "source": [
        "Q3: Hypotheses for Waiting Time\n",
        "\n",
        "To test if the mean waiting time has changed, the null and alternative hypotheses are:\n",
        "\n",
        "**Null hypothesis** (\n",
        "𝐻\n",
        "0\n",
        "​\n",
        " ):\n",
        "μ=4.5 (mean waiting time is still 4.5 minutes)\n",
        "\n",
        "**Alternative hypothesis**(\n",
        "𝐻\n",
        "𝑎\n",
        " ):\n",
        "𝜇\n",
        "≠\n",
        "4.5\n",
        " (mean waiting time has changed)\n",
        "This is a two-tailed test."
      ],
      "metadata": {
        "id": "0ZaCk-aeaiib"
      }
    },
    {
      "cell_type": "code",
      "source": [
        "# Given values\n",
        "z_stat = 2.00\n",
        "\n",
        "# Calculate p-value for a two-tailed test\n",
        "p_value = 2 * (1 - norm.cdf(z_stat))\n",
        "print(f\"Two-tailed p-value: {p_value:.4f}\")"
      ],
      "metadata": {
        "colab": {
          "base_uri": "https://localhost:8080/"
        },
        "id": "yxOc6K0iZz1H",
        "outputId": "1422f660-9815-4d7a-dbf4-23d70b91d361"
      },
      "execution_count": null,
      "outputs": [
        {
          "output_type": "stream",
          "name": "stdout",
          "text": [
            "Two-tailed p-value: 0.0455\n"
          ]
        }
      ]
    },
    {
      "cell_type": "code",
      "source": [
        "# Given values\n",
        "sample_mean = 30000\n",
        "pop_mean = 29000\n",
        "std_dev = 8000\n",
        "sample_size = 400\n",
        "alpha = 0.05\n",
        "\n",
        "# Standard error\n",
        "std_error = std_dev / math.sqrt(sample_size)\n",
        "\n",
        "# Test statistic\n",
        "z = (sample_mean - pop_mean) / std_error\n",
        "\n",
        "# Critical z-value for one-tailed test\n",
        "z_critical = norm.ppf(1 - alpha)\n",
        "\n",
        "# Decision\n",
        "if z > z_critical:\n",
        "    print(f\"Reject the null hypothesis (z = {z:.2f}). The mean income is significantly greater than 29000.\")\n",
        "else:\n",
        "    print(f\"Fail to reject the null hypothesis (z = {z:.2f}). The mean income is not significantly greater than 29000.\")"
      ],
      "metadata": {
        "colab": {
          "base_uri": "https://localhost:8080/"
        },
        "id": "9foPWhpnZ5oe",
        "outputId": "94d731be-4a0d-4a06-f77a-ef7d28555777"
      },
      "execution_count": null,
      "outputs": [
        {
          "output_type": "stream",
          "name": "stdout",
          "text": [
            "Reject the null hypothesis (z = 2.50). The mean income is significantly greater than 29000.\n"
          ]
        }
      ]
    }
  ]
}